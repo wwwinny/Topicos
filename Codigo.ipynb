{
 "metadata": {
  "language_info": {
   "codemirror_mode": {
    "name": "ipython",
    "version": 3
   },
   "file_extension": ".py",
   "mimetype": "text/x-python",
   "name": "python",
   "nbconvert_exporter": "python",
   "pygments_lexer": "ipython3",
   "version": "3.9.5"
  },
  "orig_nbformat": 4,
  "kernelspec": {
   "name": "python3",
   "display_name": "Python 3.9.5 64-bit"
  },
  "interpreter": {
   "hash": "fe06f96167c4fc64a78c238d993189072a4e72b444216e36203d6f96126eaf0a"
  }
 },
 "nbformat": 4,
 "nbformat_minor": 2,
 "cells": [
  {
   "cell_type": "code",
   "execution_count": 8,
   "metadata": {},
   "outputs": [],
   "source": [
    "import csv\n",
    "ifile = open('FallecidosCOVID.csv', 'rt')\n",
    "reader = csv.reader(ifile)\n",
    "\n",
    "outfile = open('./fallecidosCOVID_ACTUALIZADO_JUNIO.ttl', 'a')\n",
    "outfile.write('@prefix rdf: <http://www.w3.org/1999/02/22-rdf-syntax-ns#> .\\n')\n",
    "outfile.write('@prefix bsbm: <http://www4.wiwiss.fu-berlin.de/bizer/bsbm/v01/vocabulary/> .\\n')\n",
    "outfile.write('@prefix dc: <http://purl.org/dc/elements/1.1/> .\\n')\n",
    "outfile.write('@prefix xsd: <http://www.w3.org/2001/XMLSchema#> .\\n\\n')\n",
    "\n",
    "rownum = 0\n",
    "for row in reader:\n",
    "    if rownum == 0:\n",
    "        pass\n",
    "    else:  \n",
    "        c = row\n",
    "        d = 'dataFromRegion:' + c[1] + '\\n' \\\n",
    "            'rdf:type bsbm:Region ; \\n' \\\n",
    "            'bsbm: PCR(+) ' + '\"' + c[2] + '\"' + '^^xsd:Integer ;\\n' \\\n",
    "\n",
    "        outfile.write(d) \n",
    "    rownum += 1 \n",
    "outfile.close()\n",
    "ifile.close()\n",
    "\n"
   ]
  },
  {
   "cell_type": "code",
   "execution_count": null,
   "metadata": {},
   "outputs": [],
   "source": []
  }
 ]
}